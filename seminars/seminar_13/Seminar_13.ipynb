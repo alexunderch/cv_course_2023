{
  "cells": [
    {
      "cell_type": "markdown",
      "metadata": {
        "id": "wc8WxYJGpZkO"
      },
      "source": [
        "<center>\n",
        "\n",
        "# [Компьютерное зрение](http://rairi.ru/wiki/index.php/%D0%9A%D0%BE%D0%BC%D0%BF%D1%8C%D1%8E%D1%82%D0%B5%D1%80%D0%BD%D0%BE%D0%B5_%D0%B7%D1%80%D0%B5%D0%BD%D0%B8%D0%B5)\n",
        "\n",
        "## <center> Семинар 13 - 3D детекция с использованием лидарных облаков точек\n",
        "\n",
        "<a target=\"_blank\" href=\"https://colab.research.google.com/github/alexmelekhin/cv_course_2023/blob/main/seminars/seminar_13/Seminar_13.ipynb\">\n",
        "  <img src=\"https://colab.research.google.com/assets/colab-badge.svg\" alt=\"Open In Colab\"/>\n",
        "</a>\n",
        "\n",
        "***"
      ]
    },
    {
      "cell_type": "markdown",
      "metadata": {
        "id": "ncoZ2PZ0_HJq"
      },
      "source": [
        "# Установка MMDetection3D\n",
        "\n",
        "Установка осуществляется согласно инструкции [Get Started](https://github.com/open-mmlab/mmdetection3d/blob/main/docs/en/get_started.md) из оригинального репозитория."
      ]
    },
    {
      "cell_type": "code",
      "execution_count": null,
      "metadata": {
        "id": "jd_7zdj5_Bxq"
      },
      "outputs": [],
      "source": [
        "!pip3 install openmim\n",
        "!mim install mmengine\n",
        "!mim install \"mmcv>=2.0.0rc4,<2.1.0\"\n",
        "!mim install \"mmdet>=3.0.0,<3.1.0\""
      ]
    },
    {
      "cell_type": "code",
      "execution_count": null,
      "metadata": {
        "id": "aAfpMPWF_qP5"
      },
      "outputs": [],
      "source": [
        "!git clone https://github.com/open-mmlab/mmdetection3d.git -b dev-1.x\n",
        "%cd mmdetection3d\n",
        "!pip install -e ."
      ]
    },
    {
      "cell_type": "code",
      "execution_count": null,
      "metadata": {
        "id": "CMLpbkY6_-IA",
        "colab": {
          "base_uri": "https://localhost:8080/"
        },
        "outputId": "6fc178a8-dc97-4f8d-f5aa-d2110a0fea6f"
      },
      "outputs": [
        {
          "output_type": "stream",
          "name": "stdout",
          "text": [
            "1.1.0\n"
          ]
        }
      ],
      "source": [
        "import mmdet3d\n",
        "print(mmdet3d.__version__)\n",
        "# Example output: 1.1.0rc0, or an another version."
      ]
    },
    {
      "cell_type": "code",
      "execution_count": null,
      "metadata": {
        "id": "QKP_9jSRLnFY",
        "colab": {
          "base_uri": "https://localhost:8080/"
        },
        "outputId": "bcb9ba80-6104-406d-cb47-ee2b28ed4531"
      },
      "outputs": [
        {
          "output_type": "stream",
          "name": "stdout",
          "text": [
            "processing pointpillars_hv_secfpn_8xb6-160e_kitti-3d-car...\n",
            "\u001b[2Kdownloading \u001b[90m━━━━━━━━━━━━━━━━━━━━━━━━━━━━━━━━\u001b[0m \u001b[32m18.4/18.4 MiB\u001b[0m \u001b[31m22.0 MB/s\u001b[0m eta \u001b[36m0:00:00\u001b[0m\n",
            "\u001b[?25h\u001b[32mSuccessfully downloaded hv_pointpillars_secfpn_6x8_160e_kitti-3d-car_20220331_134606-d42d15ed.pth to /content\u001b[0m\n",
            "\u001b[32mSuccessfully dumped pointpillars_hv_secfpn_8xb6-160e_kitti-3d-car.py to /content\u001b[0m\n"
          ]
        }
      ],
      "source": [
        "!mim download mmdet3d --config pointpillars_hv_secfpn_8xb6-160e_kitti-3d-car --dest ."
      ]
    },
    {
      "cell_type": "markdown",
      "metadata": {
        "id": "5quBmN0XpZkY"
      },
      "source": [
        "# VoxelNet\n",
        "\n",
        "https://arxiv.org/abs/1711.06396\n",
        "\n",
        "> Accurate detection of objects in 3D point clouds is a central problem in many applications, such as autonomous navigation, housekeeping robots, and augmented/virtual reality. To interface a highly sparse LiDAR point cloud with a region proposal network (RPN), most existing efforts have focused on hand-crafted feature representations, for example, a bird's eye view projection. In this work, we remove the need of manual feature engineering for 3D point clouds and propose VoxelNet, a generic 3D detection network that unifies feature extraction and bounding box prediction into a single stage, end-to-end trainable deep network. Specifically, VoxelNet divides a point cloud into equally spaced 3D voxels and transforms a group of points within each voxel into a unified feature representation through the newly introduced voxel feature encoding (VFE) layer. In this way, the point cloud is encoded as a descriptive volumetric representation, which is then connected to a RPN to generate detections. Experiments on the KITTI car detection benchmark show that VoxelNet outperforms the state-of-the-art LiDAR based 3D detection methods by a large margin. Furthermore, our network learns an effective discriminative representation of objects with various geometries, leading to encouraging results in 3D detection of pedestrians and cyclists, based on only LiDAR.\n",
        "\n",
        "![voxelnet.png](https://github.com/steph1793/Voxelnet/raw/master/images/pre.png)"
      ]
    },
    {
      "cell_type": "markdown",
      "metadata": {
        "id": "v_mgT6IZb0Vq"
      },
      "source": [
        "# PointPillars\n",
        "\n",
        "https://github.com/open-mmlab/mmdetection3d/tree/main/configs/pointpillars \n",
        "\n",
        "![pointpillars.png](https://user-images.githubusercontent.com/79644370/143885905-aab6ffcf-7727-495e-90ca-edb8dd5e324b.png)"
      ]
    },
    {
      "cell_type": "code",
      "execution_count": null,
      "metadata": {
        "id": "Q-OaIM6KAjTr",
        "colab": {
          "base_uri": "https://localhost:8080/"
        },
        "outputId": "05d279e8-8e00-4f83-9c52-251f172351b0"
      },
      "outputs": [
        {
          "output_type": "stream",
          "name": "stderr",
          "text": [
            "/content/mmdetection3d/mmdet3d/models/dense_heads/anchor3d_head.py:92: UserWarning: dir_offset and dir_limit_offset will be depressed and be incorporated into box coder in the future\n",
            "  warnings.warn(\n"
          ]
        },
        {
          "output_type": "stream",
          "name": "stdout",
          "text": [
            "Loads checkpoint by local backend from path: hv_pointpillars_secfpn_6x8_160e_kitti-3d-car_20220331_134606-d42d15ed.pth\n"
          ]
        }
      ],
      "source": [
        "from mmdet3d.apis import init_model, inference_detector\n",
        "\n",
        "config_file = 'pointpillars_hv_secfpn_8xb6-160e_kitti-3d-car.py'\n",
        "checkpoint_file = 'hv_pointpillars_secfpn_6x8_160e_kitti-3d-car_20220331_134606-d42d15ed.pth'\n",
        "model = init_model(config_file, checkpoint_file)"
      ]
    },
    {
      "cell_type": "code",
      "execution_count": null,
      "metadata": {
        "id": "xnIZ_B_0oYqJ",
        "colab": {
          "base_uri": "https://localhost:8080/"
        },
        "outputId": "5f0999a3-b7ea-45d4-aee2-5a0b090abc8c"
      },
      "outputs": [
        {
          "output_type": "execute_result",
          "data": {
            "text/plain": [
              "VoxelNet(\n",
              "  (data_preprocessor): Det3DDataPreprocessor(\n",
              "    (voxel_layer): VoxelizationByGridShape(voxel_size=[0.16, 0.16, 4], grid_shape=[432, 496, 1], point_cloud_range=[0, -39.68, -3, 69.12, 39.68, 1], max_num_points=32, max_voxels=(16000, 40000), deterministic=True)\n",
              "  )\n",
              "  (backbone): SECOND(\n",
              "    (blocks): ModuleList(\n",
              "      (0): Sequential(\n",
              "        (0): Conv2d(64, 64, kernel_size=(3, 3), stride=(2, 2), padding=(1, 1), bias=False)\n",
              "        (1): BatchNorm2d(64, eps=0.001, momentum=0.01, affine=True, track_running_stats=True)\n",
              "        (2): ReLU(inplace=True)\n",
              "        (3): Conv2d(64, 64, kernel_size=(3, 3), stride=(1, 1), padding=(1, 1), bias=False)\n",
              "        (4): BatchNorm2d(64, eps=0.001, momentum=0.01, affine=True, track_running_stats=True)\n",
              "        (5): ReLU(inplace=True)\n",
              "        (6): Conv2d(64, 64, kernel_size=(3, 3), stride=(1, 1), padding=(1, 1), bias=False)\n",
              "        (7): BatchNorm2d(64, eps=0.001, momentum=0.01, affine=True, track_running_stats=True)\n",
              "        (8): ReLU(inplace=True)\n",
              "        (9): Conv2d(64, 64, kernel_size=(3, 3), stride=(1, 1), padding=(1, 1), bias=False)\n",
              "        (10): BatchNorm2d(64, eps=0.001, momentum=0.01, affine=True, track_running_stats=True)\n",
              "        (11): ReLU(inplace=True)\n",
              "      )\n",
              "      (1): Sequential(\n",
              "        (0): Conv2d(64, 128, kernel_size=(3, 3), stride=(2, 2), padding=(1, 1), bias=False)\n",
              "        (1): BatchNorm2d(128, eps=0.001, momentum=0.01, affine=True, track_running_stats=True)\n",
              "        (2): ReLU(inplace=True)\n",
              "        (3): Conv2d(128, 128, kernel_size=(3, 3), stride=(1, 1), padding=(1, 1), bias=False)\n",
              "        (4): BatchNorm2d(128, eps=0.001, momentum=0.01, affine=True, track_running_stats=True)\n",
              "        (5): ReLU(inplace=True)\n",
              "        (6): Conv2d(128, 128, kernel_size=(3, 3), stride=(1, 1), padding=(1, 1), bias=False)\n",
              "        (7): BatchNorm2d(128, eps=0.001, momentum=0.01, affine=True, track_running_stats=True)\n",
              "        (8): ReLU(inplace=True)\n",
              "        (9): Conv2d(128, 128, kernel_size=(3, 3), stride=(1, 1), padding=(1, 1), bias=False)\n",
              "        (10): BatchNorm2d(128, eps=0.001, momentum=0.01, affine=True, track_running_stats=True)\n",
              "        (11): ReLU(inplace=True)\n",
              "        (12): Conv2d(128, 128, kernel_size=(3, 3), stride=(1, 1), padding=(1, 1), bias=False)\n",
              "        (13): BatchNorm2d(128, eps=0.001, momentum=0.01, affine=True, track_running_stats=True)\n",
              "        (14): ReLU(inplace=True)\n",
              "        (15): Conv2d(128, 128, kernel_size=(3, 3), stride=(1, 1), padding=(1, 1), bias=False)\n",
              "        (16): BatchNorm2d(128, eps=0.001, momentum=0.01, affine=True, track_running_stats=True)\n",
              "        (17): ReLU(inplace=True)\n",
              "      )\n",
              "      (2): Sequential(\n",
              "        (0): Conv2d(128, 256, kernel_size=(3, 3), stride=(2, 2), padding=(1, 1), bias=False)\n",
              "        (1): BatchNorm2d(256, eps=0.001, momentum=0.01, affine=True, track_running_stats=True)\n",
              "        (2): ReLU(inplace=True)\n",
              "        (3): Conv2d(256, 256, kernel_size=(3, 3), stride=(1, 1), padding=(1, 1), bias=False)\n",
              "        (4): BatchNorm2d(256, eps=0.001, momentum=0.01, affine=True, track_running_stats=True)\n",
              "        (5): ReLU(inplace=True)\n",
              "        (6): Conv2d(256, 256, kernel_size=(3, 3), stride=(1, 1), padding=(1, 1), bias=False)\n",
              "        (7): BatchNorm2d(256, eps=0.001, momentum=0.01, affine=True, track_running_stats=True)\n",
              "        (8): ReLU(inplace=True)\n",
              "        (9): Conv2d(256, 256, kernel_size=(3, 3), stride=(1, 1), padding=(1, 1), bias=False)\n",
              "        (10): BatchNorm2d(256, eps=0.001, momentum=0.01, affine=True, track_running_stats=True)\n",
              "        (11): ReLU(inplace=True)\n",
              "        (12): Conv2d(256, 256, kernel_size=(3, 3), stride=(1, 1), padding=(1, 1), bias=False)\n",
              "        (13): BatchNorm2d(256, eps=0.001, momentum=0.01, affine=True, track_running_stats=True)\n",
              "        (14): ReLU(inplace=True)\n",
              "        (15): Conv2d(256, 256, kernel_size=(3, 3), stride=(1, 1), padding=(1, 1), bias=False)\n",
              "        (16): BatchNorm2d(256, eps=0.001, momentum=0.01, affine=True, track_running_stats=True)\n",
              "        (17): ReLU(inplace=True)\n",
              "      )\n",
              "    )\n",
              "  )\n",
              "  init_cfg={'type': 'Kaiming', 'layer': 'Conv2d'}\n",
              "  (neck): SECONDFPN(\n",
              "    (deblocks): ModuleList(\n",
              "      (0): Sequential(\n",
              "        (0): ConvTranspose2d(64, 128, kernel_size=(1, 1), stride=(1, 1), bias=False)\n",
              "        (1): BatchNorm2d(128, eps=0.001, momentum=0.01, affine=True, track_running_stats=True)\n",
              "        (2): ReLU(inplace=True)\n",
              "      )\n",
              "      (1): Sequential(\n",
              "        (0): ConvTranspose2d(128, 128, kernel_size=(2, 2), stride=(2, 2), bias=False)\n",
              "        (1): BatchNorm2d(128, eps=0.001, momentum=0.01, affine=True, track_running_stats=True)\n",
              "        (2): ReLU(inplace=True)\n",
              "      )\n",
              "      (2): Sequential(\n",
              "        (0): ConvTranspose2d(256, 128, kernel_size=(4, 4), stride=(4, 4), bias=False)\n",
              "        (1): BatchNorm2d(128, eps=0.001, momentum=0.01, affine=True, track_running_stats=True)\n",
              "        (2): ReLU(inplace=True)\n",
              "      )\n",
              "    )\n",
              "  )\n",
              "  init_cfg=[{'type': 'Kaiming', 'layer': 'ConvTranspose2d'}, {'type': 'Constant', 'layer': 'NaiveSyncBatchNorm2d', 'val': 1.0}]\n",
              "  (bbox_head): Anchor3DHead(\n",
              "    (loss_cls): FocalLoss()\n",
              "    (loss_bbox): SmoothL1Loss()\n",
              "    (loss_dir): CrossEntropyLoss(avg_non_ignore=False)\n",
              "    (conv_cls): Conv2d(384, 2, kernel_size=(1, 1), stride=(1, 1))\n",
              "    (conv_reg): Conv2d(384, 14, kernel_size=(1, 1), stride=(1, 1))\n",
              "    (conv_dir_cls): Conv2d(384, 4, kernel_size=(1, 1), stride=(1, 1))\n",
              "  )\n",
              "  init_cfg={'type': 'Normal', 'layer': 'Conv2d', 'std': 0.01, 'override': {'type': 'Normal', 'name': 'conv_cls', 'std': 0.01, 'bias_prob': 0.01}}\n",
              "  (voxel_encoder): PillarFeatureNet(\n",
              "    (pfn_layers): ModuleList(\n",
              "      (0): PFNLayer(\n",
              "        (norm): BatchNorm1d(64, eps=0.001, momentum=0.01, affine=True, track_running_stats=True)\n",
              "        (linear): Linear(in_features=10, out_features=64, bias=False)\n",
              "      )\n",
              "    )\n",
              "  )\n",
              "  (middle_encoder): PointPillarsScatter()\n",
              ")"
            ]
          },
          "metadata": {},
          "execution_count": 4
        }
      ],
      "source": [
        "model"
      ]
    },
    {
      "cell_type": "markdown",
      "metadata": {
        "id": "hm5k6mAUzydo"
      },
      "source": [
        "## Pillars Feature Net\n",
        "\n",
        "https://github.com/open-mmlab/mmdetection3d/blob/1.0/mmdet3d/models/voxel_encoders/pillar_encoder.py#L13\n",
        "\n"
      ]
    },
    {
      "cell_type": "markdown",
      "metadata": {
        "id": "MdXSyF3y0H6h"
      },
      "source": [
        "## Backbone + neck - SECOND + FPN\n",
        "\n",
        "https://github.com/open-mmlab/mmdetection3d/blob/1.0/mmdet3d/models/backbones/second.py#L12\n",
        "\n",
        "https://github.com/open-mmlab/mmdetection3d/blob/1.0/mmdet3d/models/necks/second_fpn.py#L12"
      ]
    },
    {
      "cell_type": "markdown",
      "metadata": {
        "id": "KbRvLxu_CiNV"
      },
      "source": [
        "## Head - Anchor3DHead\n",
        "\n",
        "https://github.com/open-mmlab/mmdetection3d/blob/1.0/mmdet3d/models/dense_heads/anchor3d_head.py#L16"
      ]
    },
    {
      "cell_type": "markdown",
      "metadata": {
        "id": "aAdF8xNwCq_l"
      },
      "source": [
        "# Инференс"
      ]
    },
    {
      "cell_type": "code",
      "execution_count": null,
      "metadata": {
        "id": "pZE_wfE_aCdf",
        "colab": {
          "base_uri": "https://localhost:8080/"
        },
        "outputId": "715ca6de-1efe-4b5c-eeac-9a147a28867b"
      },
      "outputs": [
        {
          "output_type": "stream",
          "name": "stderr",
          "text": [
            "/usr/local/lib/python3.10/dist-packages/torch/functional.py:504: UserWarning: torch.meshgrid: in an upcoming release, it will be required to pass the indexing argument. (Triggered internally at ../aten/src/ATen/native/TensorShape.cpp:3483.)\n",
            "  return _VF.meshgrid(tensors, **kwargs)  # type: ignore[attr-defined]\n"
          ]
        }
      ],
      "source": [
        "result, data = inference_detector(model, 'mmdetection3d/demo/data/kitti/000008.bin')"
      ]
    },
    {
      "cell_type": "code",
      "execution_count": null,
      "metadata": {
        "id": "fX2kwGeipZke",
        "colab": {
          "base_uri": "https://localhost:8080/"
        },
        "outputId": "39c39ecd-c296-42c7-d018-4768b52398a1"
      },
      "outputs": [
        {
          "output_type": "execute_result",
          "data": {
            "text/plain": [
              "dict_keys(['points'])"
            ]
          },
          "metadata": {},
          "execution_count": 6
        }
      ],
      "source": [
        "data[\"inputs\"].keys()"
      ]
    },
    {
      "cell_type": "code",
      "execution_count": null,
      "metadata": {
        "id": "pgFeHRmvHeit",
        "colab": {
          "base_uri": "https://localhost:8080/"
        },
        "outputId": "bc52d147-8c13-4451-d076-a4884c734262"
      },
      "outputs": [
        {
          "output_type": "execute_result",
          "data": {
            "text/plain": [
              "<Det3DDataSample(\n",
              "\n",
              "    META INFORMATION\n",
              "    box_mode_3d: <Box3DMode.LIDAR: 0>\n",
              "    pcd_horizontal_flip: False\n",
              "    pcd_vertical_flip: False\n",
              "    pcd_trans: array([0., 0., 0.])\n",
              "    box_type_3d: <class 'mmdet3d.structures.bbox_3d.lidar_box3d.LiDARInstance3DBoxes'>\n",
              "    lidar_path: 'mmdetection3d/demo/data/kitti/000008.bin'\n",
              "    pcd_rotation_angle: 0.0\n",
              "    transformation_3d_flow: ['R', 'S', 'T']\n",
              "    flip: False\n",
              "    pcd_scale_factor: 1.0\n",
              "    pcd_rotation: tensor([[1., 0., 0.],\n",
              "                [-0., 1., 0.],\n",
              "                [0., 0., 1.]])\n",
              "\n",
              "    DATA FIELDS\n",
              "    pred_instances_3d: <InstanceData(\n",
              "        \n",
              "            META INFORMATION\n",
              "        \n",
              "            DATA FIELDS\n",
              "            labels_3d: tensor([0, 0, 0, 0, 0, 0, 0, 0, 0, 0], device='cuda:0')\n",
              "            bboxes_3d: LiDARInstance3DBoxes(\n",
              "                    tensor([[ 14.7584,  -1.0538,  -1.5590,   3.7563,   1.6060,   1.5587,  -0.3131],\n",
              "                        [  6.4378,  -3.8679,  -1.7354,   3.1476,   1.4599,   1.4284,  -0.2997],\n",
              "                        [  8.1122,   1.2170,  -1.6340,   3.6663,   1.5731,   1.5915,   2.8162],\n",
              "                        [ 20.1698,  -8.4311,  -1.6691,   2.3816,   1.5176,   1.5694,  -0.3255],\n",
              "                        [ 33.4559,  -7.0358,  -1.3376,   4.2141,   1.7446,   1.6697,   2.8285],\n",
              "                        [ 55.6216, -20.3288,  -1.3771,   4.3705,   1.7360,   1.7068,   2.8503],\n",
              "                        [  3.6383,   2.7381,  -1.6892,   3.7205,   1.5820,   1.5178,  -0.2305],\n",
              "                        [ 25.0405, -10.1565,  -1.6325,   3.7390,   1.6085,   1.4840,  -0.3298],\n",
              "                        [ 28.7253,  -1.5525,  -1.2017,   3.6939,   1.5429,   1.5609,   1.2417],\n",
              "                        [ 40.8709,  -9.7488,  -1.3668,   3.8333,   1.6530,   1.5704,  -0.2882]],\n",
              "                       device='cuda:0'))\n",
              "            scores_3d: tensor([0.9750, 0.9682, 0.9457, 0.8905, 0.8890, 0.7712, 0.7554, 0.7059, 0.5796,\n",
              "                        0.4417], device='cuda:0')\n",
              "        ) at 0x7fddb3c74c10>\n",
              "    gt_pts_seg: <PointData(\n",
              "        \n",
              "            META INFORMATION\n",
              "        \n",
              "            DATA FIELDS\n",
              "        ) at 0x7fddb3c768f0>\n",
              "    gt_instances: <InstanceData(\n",
              "        \n",
              "            META INFORMATION\n",
              "        \n",
              "            DATA FIELDS\n",
              "        ) at 0x7fddb3c74850>\n",
              "    eval_ann_info: None\n",
              "    gt_instances_3d: <InstanceData(\n",
              "        \n",
              "            META INFORMATION\n",
              "        \n",
              "            DATA FIELDS\n",
              "        ) at 0x7fddb3c746d0>\n",
              "    pred_instances: <InstanceData(\n",
              "        \n",
              "            META INFORMATION\n",
              "        \n",
              "            DATA FIELDS\n",
              "        ) at 0x7fddbaed4f40>\n",
              ") at 0x7fddb3c764d0>"
            ]
          },
          "metadata": {},
          "execution_count": 7
        }
      ],
      "source": [
        "result"
      ]
    },
    {
      "cell_type": "code",
      "execution_count": null,
      "metadata": {
        "id": "i8bzIEhAHigE",
        "colab": {
          "base_uri": "https://localhost:8080/"
        },
        "outputId": "11bf1c44-a6cd-42e7-ab77-6cc9d56422bb"
      },
      "outputs": [
        {
          "output_type": "execute_result",
          "data": {
            "text/plain": [
              "<InstanceData(\n",
              "\n",
              "    META INFORMATION\n",
              "\n",
              "    DATA FIELDS\n",
              "    labels_3d: tensor([0, 0, 0, 0, 0, 0, 0, 0, 0, 0], device='cuda:0')\n",
              "    bboxes_3d: LiDARInstance3DBoxes(\n",
              "            tensor([[ 14.7584,  -1.0538,  -1.5590,   3.7563,   1.6060,   1.5587,  -0.3131],\n",
              "                [  6.4378,  -3.8679,  -1.7354,   3.1476,   1.4599,   1.4284,  -0.2997],\n",
              "                [  8.1122,   1.2170,  -1.6340,   3.6663,   1.5731,   1.5915,   2.8162],\n",
              "                [ 20.1698,  -8.4311,  -1.6691,   2.3816,   1.5176,   1.5694,  -0.3255],\n",
              "                [ 33.4559,  -7.0358,  -1.3376,   4.2141,   1.7446,   1.6697,   2.8285],\n",
              "                [ 55.6216, -20.3288,  -1.3771,   4.3705,   1.7360,   1.7068,   2.8503],\n",
              "                [  3.6383,   2.7381,  -1.6892,   3.7205,   1.5820,   1.5178,  -0.2305],\n",
              "                [ 25.0405, -10.1565,  -1.6325,   3.7390,   1.6085,   1.4840,  -0.3298],\n",
              "                [ 28.7253,  -1.5525,  -1.2017,   3.6939,   1.5429,   1.5609,   1.2417],\n",
              "                [ 40.8709,  -9.7488,  -1.3668,   3.8333,   1.6530,   1.5704,  -0.2882]],\n",
              "               device='cuda:0'))\n",
              "    scores_3d: tensor([0.9750, 0.9682, 0.9457, 0.8905, 0.8890, 0.7712, 0.7554, 0.7059, 0.5796,\n",
              "                0.4417], device='cuda:0')\n",
              ") at 0x7fddb3c74c10>"
            ]
          },
          "metadata": {},
          "execution_count": 8
        }
      ],
      "source": [
        "result.pred_instances_3d"
      ]
    },
    {
      "cell_type": "markdown",
      "metadata": {
        "id": "x5DlP1msJdbT"
      },
      "source": [
        "### LiDARInstance3DBoxes\n",
        "\n",
        "https://github.com/open-mmlab/mmdetection3d/blob/main/mmdet3d/structures/bbox_3d/lidar_box3d.py\n",
        "\n",
        "\n",
        "\n",
        "```\n",
        "Each row is (x, y, z, x_size, y_size, z_size, yaw)\n",
        "```\n",
        "\n"
      ]
    },
    {
      "cell_type": "markdown",
      "metadata": {
        "id": "EFx_et5MZx_1"
      },
      "source": [
        "# Визуализация\n",
        "\n",
        "https://mmdetection3d.readthedocs.io/en/latest/user_guides/visualization.html\n",
        "\n",
        "! Не работает в Google Colab"
      ]
    },
    {
      "cell_type": "code",
      "execution_count": null,
      "metadata": {
        "id": "IwGle1TaHyPV",
        "colab": {
          "base_uri": "https://localhost:8080/"
        },
        "outputId": "ed9d41c6-eb6f-49b5-ca11-482147a16f78"
      },
      "outputs": [
        {
          "output_type": "stream",
          "name": "stdout",
          "text": [
            "05/04 07:27:48 - mmengine - WARNING - `Visualizer` backend is not initialized because save_dir is None.\n"
          ]
        }
      ],
      "source": [
        "from mmdet3d.visualization import Det3DLocalVisualizer\n",
        "\n",
        "points = data[\"inputs\"][\"points\"].numpy()\n",
        "\n",
        "visualizer = Det3DLocalVisualizer()\n",
        "\n",
        "# set point cloud in visualizer\n",
        "visualizer.set_points(points)\n",
        "bboxes_3d = result.pred_instances_3d.bboxes_3d\n",
        "visualizer.draw_bboxes_3d(bboxes_3d)\n",
        "visualizer.show()"
      ]
    },
    {
      "cell_type": "markdown",
      "metadata": {
        "id": "p72Cvyf7pZkg"
      },
      "source": [
        "# Задание\n",
        "\n",
        "По примеру кода выше запустите инференс модели CenterPoint. Вы можете использовать любую конфигурацию из предложенных в MMDetection3D.\n",
        "\n",
        "В качестве входных данных используйте `mmdetection3d/demo/data/nuscenes/n015-2018-07-24-11-22-45+0800__LIDAR_TOP__1532402927647951.pcd.bin`.\n",
        "\n",
        "- https://github.com/open-mmlab/mmdetection3d/tree/main/configs/centerpoint\n",
        "- https://arxiv.org/abs/2006.11275\n",
        "\n",
        "\n",
        "### Вопрос 1\n",
        "\n",
        "Кратко опишите ключевую идею 2D CenterNet детектора.\n",
        "\n",
        "**Ответ:** данный детектор переформулирует задачу детекции как задачу keypoint estimation. CenterNet учится предсказывать heatmaps with rendered Gaussian kernels для каждого объекта с заданными коодинатами центра и меткой класса и предсказывать bbox (ака 9 чисел) и confidence, решая задачу регрессии.\n",
        "\n",
        "Плюс подхода в том, что используются уже придуманные подходы к 3D-детекции, VoxelNet и PointPillars.\n",
        "\n",
        "\n",
        "\n",
        "### Вопрос 2\n",
        "\n",
        "Как осуществляется трекинг в CenterPoint?\n",
        "\n",
        "**Ответ:**\n",
        "Хорошая цитата из статьи!\n",
        "```\n",
        "At test time, the detector produces K heatmaps and\n",
        "dense class-agnostic regression maps. Each local maxima\n",
        "(peak) in the heatmaps corresponds to an object, with\n",
        "confidence proportional to the heatmap value at the peak.\n",
        "For each detected object, the detector retrieves all regression\n",
        "values from the regression maps at the corresponding\n",
        "peak location. Depending on the application domain,\n",
        "Non-Maxima Suppression (NMS) may be warranted.\n",
        "```\n",
        "\n",
        "\n",
        "### Вопрос 3\n",
        "\n",
        "Кратко опишите две стадии работы метода CenterPoint.\n",
        "\n",
        "**Ответ:**\n",
        "1. Centers and 3D boxes: Для каждой точки определяется свой вектор признаков, используя билинейную интерполяцию и CenterNet (3D -> 2D свёртки), потом это всё конкатенируется и прогоняется через MLP.\n",
        "\n",
        "2. Score and 3D boxes использует MLP-слои выше.\n",
        "\n",
        "```\n",
        "We rely on a standard 3D backbone that extracts map-view feature\n",
        "representation from Lidar point-clouds. Then, a 2D CNN architecture detection head finds object centers and regress to full 3D\n",
        "bounding boxes using center features. This box prediction is used to extract point features at the 3D centers of each face of\n",
        "the estimated 3D bounding box, which are passed into MLP to predict an IoU-guided confidence score and box regression\n",
        "refinement. Best viewed in color\n",
        "```"
      ]
    },
    {
      "cell_type": "code",
      "execution_count": null,
      "metadata": {
        "id": "Br2QRZYnpZkg",
        "colab": {
          "base_uri": "https://localhost:8080/"
        },
        "outputId": "ce861252-d141-468c-bbe4-f378fef69df8"
      },
      "outputs": [
        {
          "output_type": "stream",
          "name": "stdout",
          "text": [
            "processing centerpoint_pillar02_second_secfpn_head-circlenms_8xb4-cyclic-20e_nus-3d...\n",
            "\u001b[2Kdownloading \u001b[90m━━━━━━━━━━━━━━━━━━━━━━━━━━━━━━━━\u001b[0m \u001b[32m23.0/23.0 MiB\u001b[0m \u001b[31m77.7 MB/s\u001b[0m eta \u001b[36m0:00:00\u001b[0m\n",
            "\u001b[?25h\u001b[32mSuccessfully downloaded centerpoint_02pillar_second_secfpn_circlenms_4x8_cyclic_20e_nus_20220811_031844-191a3822.pth to /content\u001b[0m\n",
            "\u001b[32mSuccessfully dumped centerpoint_pillar02_second_secfpn_head-circlenms_8xb4-cyclic-20e_nus-3d.py to /content\u001b[0m\n"
          ]
        }
      ],
      "source": [
        "!mim download mmdet3d --config centerpoint_pillar02_second_secfpn_head-circlenms_8xb4-cyclic-20e_nus-3d --dest ."
      ]
    },
    {
      "cell_type": "code",
      "source": [
        "from mmdet3d.apis import init_model, inference_detector\n",
        "\n",
        "config_file = '/content/centerpoint_pillar02_second_secfpn_head-circlenms_8xb4-cyclic-20e_nus-3d.py'\n",
        "checkpoint_file = '/content/centerpoint_02pillar_second_secfpn_circlenms_4x8_cyclic_20e_nus_20220811_031844-191a3822.pth'\n",
        "model = init_model(config_file, checkpoint_file)"
      ],
      "metadata": {
        "colab": {
          "base_uri": "https://localhost:8080/"
        },
        "id": "JJva_wL-rA_c",
        "outputId": "3706cedf-8540-4bc9-de38-1cada343ea06"
      },
      "execution_count": null,
      "outputs": [
        {
          "output_type": "stream",
          "name": "stdout",
          "text": [
            "Loads checkpoint by local backend from path: /content/centerpoint_02pillar_second_secfpn_circlenms_4x8_cyclic_20e_nus_20220811_031844-191a3822.pth\n"
          ]
        }
      ]
    },
    {
      "cell_type": "code",
      "source": [
        "model"
      ],
      "metadata": {
        "colab": {
          "base_uri": "https://localhost:8080/"
        },
        "id": "mavcXUGdsVzj",
        "outputId": "d1c59f3a-eef2-4efd-f706-3e0a16e84a6f"
      },
      "execution_count": null,
      "outputs": [
        {
          "output_type": "execute_result",
          "data": {
            "text/plain": [
              "CenterPoint(\n",
              "  (data_preprocessor): Det3DDataPreprocessor(\n",
              "    (voxel_layer): VoxelizationByGridShape(voxel_size=[0.2, 0.2, 8], grid_shape=[512, 512, 1], point_cloud_range=[-51.2, -51.2, -5.0, 51.2, 51.2, 3.0], max_num_points=20, max_voxels=(30000, 40000), deterministic=True)\n",
              "  )\n",
              "  (pts_voxel_encoder): PillarFeatureNet(\n",
              "    (pfn_layers): ModuleList(\n",
              "      (0): PFNLayer(\n",
              "        (norm): BatchNorm1d(64, eps=0.001, momentum=0.01, affine=True, track_running_stats=True)\n",
              "        (linear): Linear(in_features=11, out_features=64, bias=False)\n",
              "      )\n",
              "    )\n",
              "  )\n",
              "  (pts_middle_encoder): PointPillarsScatter()\n",
              "  (pts_backbone): SECOND(\n",
              "    (blocks): ModuleList(\n",
              "      (0): Sequential(\n",
              "        (0): Conv2d(64, 64, kernel_size=(3, 3), stride=(2, 2), padding=(1, 1), bias=False)\n",
              "        (1): BatchNorm2d(64, eps=0.001, momentum=0.01, affine=True, track_running_stats=True)\n",
              "        (2): ReLU(inplace=True)\n",
              "        (3): Conv2d(64, 64, kernel_size=(3, 3), stride=(1, 1), padding=(1, 1), bias=False)\n",
              "        (4): BatchNorm2d(64, eps=0.001, momentum=0.01, affine=True, track_running_stats=True)\n",
              "        (5): ReLU(inplace=True)\n",
              "        (6): Conv2d(64, 64, kernel_size=(3, 3), stride=(1, 1), padding=(1, 1), bias=False)\n",
              "        (7): BatchNorm2d(64, eps=0.001, momentum=0.01, affine=True, track_running_stats=True)\n",
              "        (8): ReLU(inplace=True)\n",
              "        (9): Conv2d(64, 64, kernel_size=(3, 3), stride=(1, 1), padding=(1, 1), bias=False)\n",
              "        (10): BatchNorm2d(64, eps=0.001, momentum=0.01, affine=True, track_running_stats=True)\n",
              "        (11): ReLU(inplace=True)\n",
              "      )\n",
              "      (1): Sequential(\n",
              "        (0): Conv2d(64, 128, kernel_size=(3, 3), stride=(2, 2), padding=(1, 1), bias=False)\n",
              "        (1): BatchNorm2d(128, eps=0.001, momentum=0.01, affine=True, track_running_stats=True)\n",
              "        (2): ReLU(inplace=True)\n",
              "        (3): Conv2d(128, 128, kernel_size=(3, 3), stride=(1, 1), padding=(1, 1), bias=False)\n",
              "        (4): BatchNorm2d(128, eps=0.001, momentum=0.01, affine=True, track_running_stats=True)\n",
              "        (5): ReLU(inplace=True)\n",
              "        (6): Conv2d(128, 128, kernel_size=(3, 3), stride=(1, 1), padding=(1, 1), bias=False)\n",
              "        (7): BatchNorm2d(128, eps=0.001, momentum=0.01, affine=True, track_running_stats=True)\n",
              "        (8): ReLU(inplace=True)\n",
              "        (9): Conv2d(128, 128, kernel_size=(3, 3), stride=(1, 1), padding=(1, 1), bias=False)\n",
              "        (10): BatchNorm2d(128, eps=0.001, momentum=0.01, affine=True, track_running_stats=True)\n",
              "        (11): ReLU(inplace=True)\n",
              "        (12): Conv2d(128, 128, kernel_size=(3, 3), stride=(1, 1), padding=(1, 1), bias=False)\n",
              "        (13): BatchNorm2d(128, eps=0.001, momentum=0.01, affine=True, track_running_stats=True)\n",
              "        (14): ReLU(inplace=True)\n",
              "        (15): Conv2d(128, 128, kernel_size=(3, 3), stride=(1, 1), padding=(1, 1), bias=False)\n",
              "        (16): BatchNorm2d(128, eps=0.001, momentum=0.01, affine=True, track_running_stats=True)\n",
              "        (17): ReLU(inplace=True)\n",
              "      )\n",
              "      (2): Sequential(\n",
              "        (0): Conv2d(128, 256, kernel_size=(3, 3), stride=(2, 2), padding=(1, 1), bias=False)\n",
              "        (1): BatchNorm2d(256, eps=0.001, momentum=0.01, affine=True, track_running_stats=True)\n",
              "        (2): ReLU(inplace=True)\n",
              "        (3): Conv2d(256, 256, kernel_size=(3, 3), stride=(1, 1), padding=(1, 1), bias=False)\n",
              "        (4): BatchNorm2d(256, eps=0.001, momentum=0.01, affine=True, track_running_stats=True)\n",
              "        (5): ReLU(inplace=True)\n",
              "        (6): Conv2d(256, 256, kernel_size=(3, 3), stride=(1, 1), padding=(1, 1), bias=False)\n",
              "        (7): BatchNorm2d(256, eps=0.001, momentum=0.01, affine=True, track_running_stats=True)\n",
              "        (8): ReLU(inplace=True)\n",
              "        (9): Conv2d(256, 256, kernel_size=(3, 3), stride=(1, 1), padding=(1, 1), bias=False)\n",
              "        (10): BatchNorm2d(256, eps=0.001, momentum=0.01, affine=True, track_running_stats=True)\n",
              "        (11): ReLU(inplace=True)\n",
              "        (12): Conv2d(256, 256, kernel_size=(3, 3), stride=(1, 1), padding=(1, 1), bias=False)\n",
              "        (13): BatchNorm2d(256, eps=0.001, momentum=0.01, affine=True, track_running_stats=True)\n",
              "        (14): ReLU(inplace=True)\n",
              "        (15): Conv2d(256, 256, kernel_size=(3, 3), stride=(1, 1), padding=(1, 1), bias=False)\n",
              "        (16): BatchNorm2d(256, eps=0.001, momentum=0.01, affine=True, track_running_stats=True)\n",
              "        (17): ReLU(inplace=True)\n",
              "      )\n",
              "    )\n",
              "  )\n",
              "  init_cfg={'type': 'Kaiming', 'layer': 'Conv2d'}\n",
              "  (pts_neck): SECONDFPN(\n",
              "    (deblocks): ModuleList(\n",
              "      (0): Sequential(\n",
              "        (0): Conv2d(64, 128, kernel_size=(2, 2), stride=(2, 2), bias=False)\n",
              "        (1): BatchNorm2d(128, eps=0.001, momentum=0.01, affine=True, track_running_stats=True)\n",
              "        (2): ReLU(inplace=True)\n",
              "      )\n",
              "      (1): Sequential(\n",
              "        (0): Conv2d(128, 128, kernel_size=(1, 1), stride=(1, 1), bias=False)\n",
              "        (1): BatchNorm2d(128, eps=0.001, momentum=0.01, affine=True, track_running_stats=True)\n",
              "        (2): ReLU(inplace=True)\n",
              "      )\n",
              "      (2): Sequential(\n",
              "        (0): ConvTranspose2d(256, 128, kernel_size=(2, 2), stride=(2, 2), bias=False)\n",
              "        (1): BatchNorm2d(128, eps=0.001, momentum=0.01, affine=True, track_running_stats=True)\n",
              "        (2): ReLU(inplace=True)\n",
              "      )\n",
              "    )\n",
              "  )\n",
              "  init_cfg=[{'type': 'Kaiming', 'layer': 'ConvTranspose2d'}, {'type': 'Constant', 'layer': 'NaiveSyncBatchNorm2d', 'val': 1.0}]\n",
              "  (pts_bbox_head): CenterHead(\n",
              "    (loss_cls): GaussianFocalLoss()\n",
              "    (loss_bbox): L1Loss()\n",
              "    (shared_conv): ConvModule(\n",
              "      (conv): Conv2d(384, 64, kernel_size=(3, 3), stride=(1, 1), padding=(1, 1), bias=False)\n",
              "      (bn): BatchNorm2d(64, eps=1e-05, momentum=0.1, affine=True, track_running_stats=True)\n",
              "      (activate): ReLU(inplace=True)\n",
              "    )\n",
              "    (task_heads): ModuleList(\n",
              "      (0): SeparateHead(\n",
              "        (reg): Sequential(\n",
              "          (0): ConvModule(\n",
              "            (conv): Conv2d(64, 64, kernel_size=(3, 3), stride=(1, 1), padding=(1, 1), bias=False)\n",
              "            (bn): BatchNorm2d(64, eps=1e-05, momentum=0.1, affine=True, track_running_stats=True)\n",
              "            (activate): ReLU(inplace=True)\n",
              "          )\n",
              "          (1): Conv2d(64, 2, kernel_size=(3, 3), stride=(1, 1), padding=(1, 1))\n",
              "        )\n",
              "        (height): Sequential(\n",
              "          (0): ConvModule(\n",
              "            (conv): Conv2d(64, 64, kernel_size=(3, 3), stride=(1, 1), padding=(1, 1), bias=False)\n",
              "            (bn): BatchNorm2d(64, eps=1e-05, momentum=0.1, affine=True, track_running_stats=True)\n",
              "            (activate): ReLU(inplace=True)\n",
              "          )\n",
              "          (1): Conv2d(64, 1, kernel_size=(3, 3), stride=(1, 1), padding=(1, 1))\n",
              "        )\n",
              "        (dim): Sequential(\n",
              "          (0): ConvModule(\n",
              "            (conv): Conv2d(64, 64, kernel_size=(3, 3), stride=(1, 1), padding=(1, 1), bias=False)\n",
              "            (bn): BatchNorm2d(64, eps=1e-05, momentum=0.1, affine=True, track_running_stats=True)\n",
              "            (activate): ReLU(inplace=True)\n",
              "          )\n",
              "          (1): Conv2d(64, 3, kernel_size=(3, 3), stride=(1, 1), padding=(1, 1))\n",
              "        )\n",
              "        (rot): Sequential(\n",
              "          (0): ConvModule(\n",
              "            (conv): Conv2d(64, 64, kernel_size=(3, 3), stride=(1, 1), padding=(1, 1), bias=False)\n",
              "            (bn): BatchNorm2d(64, eps=1e-05, momentum=0.1, affine=True, track_running_stats=True)\n",
              "            (activate): ReLU(inplace=True)\n",
              "          )\n",
              "          (1): Conv2d(64, 2, kernel_size=(3, 3), stride=(1, 1), padding=(1, 1))\n",
              "        )\n",
              "        (vel): Sequential(\n",
              "          (0): ConvModule(\n",
              "            (conv): Conv2d(64, 64, kernel_size=(3, 3), stride=(1, 1), padding=(1, 1), bias=False)\n",
              "            (bn): BatchNorm2d(64, eps=1e-05, momentum=0.1, affine=True, track_running_stats=True)\n",
              "            (activate): ReLU(inplace=True)\n",
              "          )\n",
              "          (1): Conv2d(64, 2, kernel_size=(3, 3), stride=(1, 1), padding=(1, 1))\n",
              "        )\n",
              "        (heatmap): Sequential(\n",
              "          (0): ConvModule(\n",
              "            (conv): Conv2d(64, 64, kernel_size=(3, 3), stride=(1, 1), padding=(1, 1), bias=False)\n",
              "            (bn): BatchNorm2d(64, eps=1e-05, momentum=0.1, affine=True, track_running_stats=True)\n",
              "            (activate): ReLU(inplace=True)\n",
              "          )\n",
              "          (1): Conv2d(64, 1, kernel_size=(3, 3), stride=(1, 1), padding=(1, 1))\n",
              "        )\n",
              "      )\n",
              "      init_cfg={'type': 'Kaiming', 'layer': 'Conv2d'}\n",
              "      (1-2): 2 x SeparateHead(\n",
              "        (reg): Sequential(\n",
              "          (0): ConvModule(\n",
              "            (conv): Conv2d(64, 64, kernel_size=(3, 3), stride=(1, 1), padding=(1, 1), bias=False)\n",
              "            (bn): BatchNorm2d(64, eps=1e-05, momentum=0.1, affine=True, track_running_stats=True)\n",
              "            (activate): ReLU(inplace=True)\n",
              "          )\n",
              "          (1): Conv2d(64, 2, kernel_size=(3, 3), stride=(1, 1), padding=(1, 1))\n",
              "        )\n",
              "        (height): Sequential(\n",
              "          (0): ConvModule(\n",
              "            (conv): Conv2d(64, 64, kernel_size=(3, 3), stride=(1, 1), padding=(1, 1), bias=False)\n",
              "            (bn): BatchNorm2d(64, eps=1e-05, momentum=0.1, affine=True, track_running_stats=True)\n",
              "            (activate): ReLU(inplace=True)\n",
              "          )\n",
              "          (1): Conv2d(64, 1, kernel_size=(3, 3), stride=(1, 1), padding=(1, 1))\n",
              "        )\n",
              "        (dim): Sequential(\n",
              "          (0): ConvModule(\n",
              "            (conv): Conv2d(64, 64, kernel_size=(3, 3), stride=(1, 1), padding=(1, 1), bias=False)\n",
              "            (bn): BatchNorm2d(64, eps=1e-05, momentum=0.1, affine=True, track_running_stats=True)\n",
              "            (activate): ReLU(inplace=True)\n",
              "          )\n",
              "          (1): Conv2d(64, 3, kernel_size=(3, 3), stride=(1, 1), padding=(1, 1))\n",
              "        )\n",
              "        (rot): Sequential(\n",
              "          (0): ConvModule(\n",
              "            (conv): Conv2d(64, 64, kernel_size=(3, 3), stride=(1, 1), padding=(1, 1), bias=False)\n",
              "            (bn): BatchNorm2d(64, eps=1e-05, momentum=0.1, affine=True, track_running_stats=True)\n",
              "            (activate): ReLU(inplace=True)\n",
              "          )\n",
              "          (1): Conv2d(64, 2, kernel_size=(3, 3), stride=(1, 1), padding=(1, 1))\n",
              "        )\n",
              "        (vel): Sequential(\n",
              "          (0): ConvModule(\n",
              "            (conv): Conv2d(64, 64, kernel_size=(3, 3), stride=(1, 1), padding=(1, 1), bias=False)\n",
              "            (bn): BatchNorm2d(64, eps=1e-05, momentum=0.1, affine=True, track_running_stats=True)\n",
              "            (activate): ReLU(inplace=True)\n",
              "          )\n",
              "          (1): Conv2d(64, 2, kernel_size=(3, 3), stride=(1, 1), padding=(1, 1))\n",
              "        )\n",
              "        (heatmap): Sequential(\n",
              "          (0): ConvModule(\n",
              "            (conv): Conv2d(64, 64, kernel_size=(3, 3), stride=(1, 1), padding=(1, 1), bias=False)\n",
              "            (bn): BatchNorm2d(64, eps=1e-05, momentum=0.1, affine=True, track_running_stats=True)\n",
              "            (activate): ReLU(inplace=True)\n",
              "          )\n",
              "          (1): Conv2d(64, 2, kernel_size=(3, 3), stride=(1, 1), padding=(1, 1))\n",
              "        )\n",
              "      )\n",
              "      init_cfg={'type': 'Kaiming', 'layer': 'Conv2d'}\n",
              "      (3): SeparateHead(\n",
              "        (reg): Sequential(\n",
              "          (0): ConvModule(\n",
              "            (conv): Conv2d(64, 64, kernel_size=(3, 3), stride=(1, 1), padding=(1, 1), bias=False)\n",
              "            (bn): BatchNorm2d(64, eps=1e-05, momentum=0.1, affine=True, track_running_stats=True)\n",
              "            (activate): ReLU(inplace=True)\n",
              "          )\n",
              "          (1): Conv2d(64, 2, kernel_size=(3, 3), stride=(1, 1), padding=(1, 1))\n",
              "        )\n",
              "        (height): Sequential(\n",
              "          (0): ConvModule(\n",
              "            (conv): Conv2d(64, 64, kernel_size=(3, 3), stride=(1, 1), padding=(1, 1), bias=False)\n",
              "            (bn): BatchNorm2d(64, eps=1e-05, momentum=0.1, affine=True, track_running_stats=True)\n",
              "            (activate): ReLU(inplace=True)\n",
              "          )\n",
              "          (1): Conv2d(64, 1, kernel_size=(3, 3), stride=(1, 1), padding=(1, 1))\n",
              "        )\n",
              "        (dim): Sequential(\n",
              "          (0): ConvModule(\n",
              "            (conv): Conv2d(64, 64, kernel_size=(3, 3), stride=(1, 1), padding=(1, 1), bias=False)\n",
              "            (bn): BatchNorm2d(64, eps=1e-05, momentum=0.1, affine=True, track_running_stats=True)\n",
              "            (activate): ReLU(inplace=True)\n",
              "          )\n",
              "          (1): Conv2d(64, 3, kernel_size=(3, 3), stride=(1, 1), padding=(1, 1))\n",
              "        )\n",
              "        (rot): Sequential(\n",
              "          (0): ConvModule(\n",
              "            (conv): Conv2d(64, 64, kernel_size=(3, 3), stride=(1, 1), padding=(1, 1), bias=False)\n",
              "            (bn): BatchNorm2d(64, eps=1e-05, momentum=0.1, affine=True, track_running_stats=True)\n",
              "            (activate): ReLU(inplace=True)\n",
              "          )\n",
              "          (1): Conv2d(64, 2, kernel_size=(3, 3), stride=(1, 1), padding=(1, 1))\n",
              "        )\n",
              "        (vel): Sequential(\n",
              "          (0): ConvModule(\n",
              "            (conv): Conv2d(64, 64, kernel_size=(3, 3), stride=(1, 1), padding=(1, 1), bias=False)\n",
              "            (bn): BatchNorm2d(64, eps=1e-05, momentum=0.1, affine=True, track_running_stats=True)\n",
              "            (activate): ReLU(inplace=True)\n",
              "          )\n",
              "          (1): Conv2d(64, 2, kernel_size=(3, 3), stride=(1, 1), padding=(1, 1))\n",
              "        )\n",
              "        (heatmap): Sequential(\n",
              "          (0): ConvModule(\n",
              "            (conv): Conv2d(64, 64, kernel_size=(3, 3), stride=(1, 1), padding=(1, 1), bias=False)\n",
              "            (bn): BatchNorm2d(64, eps=1e-05, momentum=0.1, affine=True, track_running_stats=True)\n",
              "            (activate): ReLU(inplace=True)\n",
              "          )\n",
              "          (1): Conv2d(64, 1, kernel_size=(3, 3), stride=(1, 1), padding=(1, 1))\n",
              "        )\n",
              "      )\n",
              "      init_cfg={'type': 'Kaiming', 'layer': 'Conv2d'}\n",
              "      (4-5): 2 x SeparateHead(\n",
              "        (reg): Sequential(\n",
              "          (0): ConvModule(\n",
              "            (conv): Conv2d(64, 64, kernel_size=(3, 3), stride=(1, 1), padding=(1, 1), bias=False)\n",
              "            (bn): BatchNorm2d(64, eps=1e-05, momentum=0.1, affine=True, track_running_stats=True)\n",
              "            (activate): ReLU(inplace=True)\n",
              "          )\n",
              "          (1): Conv2d(64, 2, kernel_size=(3, 3), stride=(1, 1), padding=(1, 1))\n",
              "        )\n",
              "        (height): Sequential(\n",
              "          (0): ConvModule(\n",
              "            (conv): Conv2d(64, 64, kernel_size=(3, 3), stride=(1, 1), padding=(1, 1), bias=False)\n",
              "            (bn): BatchNorm2d(64, eps=1e-05, momentum=0.1, affine=True, track_running_stats=True)\n",
              "            (activate): ReLU(inplace=True)\n",
              "          )\n",
              "          (1): Conv2d(64, 1, kernel_size=(3, 3), stride=(1, 1), padding=(1, 1))\n",
              "        )\n",
              "        (dim): Sequential(\n",
              "          (0): ConvModule(\n",
              "            (conv): Conv2d(64, 64, kernel_size=(3, 3), stride=(1, 1), padding=(1, 1), bias=False)\n",
              "            (bn): BatchNorm2d(64, eps=1e-05, momentum=0.1, affine=True, track_running_stats=True)\n",
              "            (activate): ReLU(inplace=True)\n",
              "          )\n",
              "          (1): Conv2d(64, 3, kernel_size=(3, 3), stride=(1, 1), padding=(1, 1))\n",
              "        )\n",
              "        (rot): Sequential(\n",
              "          (0): ConvModule(\n",
              "            (conv): Conv2d(64, 64, kernel_size=(3, 3), stride=(1, 1), padding=(1, 1), bias=False)\n",
              "            (bn): BatchNorm2d(64, eps=1e-05, momentum=0.1, affine=True, track_running_stats=True)\n",
              "            (activate): ReLU(inplace=True)\n",
              "          )\n",
              "          (1): Conv2d(64, 2, kernel_size=(3, 3), stride=(1, 1), padding=(1, 1))\n",
              "        )\n",
              "        (vel): Sequential(\n",
              "          (0): ConvModule(\n",
              "            (conv): Conv2d(64, 64, kernel_size=(3, 3), stride=(1, 1), padding=(1, 1), bias=False)\n",
              "            (bn): BatchNorm2d(64, eps=1e-05, momentum=0.1, affine=True, track_running_stats=True)\n",
              "            (activate): ReLU(inplace=True)\n",
              "          )\n",
              "          (1): Conv2d(64, 2, kernel_size=(3, 3), stride=(1, 1), padding=(1, 1))\n",
              "        )\n",
              "        (heatmap): Sequential(\n",
              "          (0): ConvModule(\n",
              "            (conv): Conv2d(64, 64, kernel_size=(3, 3), stride=(1, 1), padding=(1, 1), bias=False)\n",
              "            (bn): BatchNorm2d(64, eps=1e-05, momentum=0.1, affine=True, track_running_stats=True)\n",
              "            (activate): ReLU(inplace=True)\n",
              "          )\n",
              "          (1): Conv2d(64, 2, kernel_size=(3, 3), stride=(1, 1), padding=(1, 1))\n",
              "        )\n",
              "      )\n",
              "      init_cfg={'type': 'Kaiming', 'layer': 'Conv2d'}\n",
              "    )\n",
              "  )\n",
              ")"
            ]
          },
          "metadata": {},
          "execution_count": 5
        }
      ]
    },
    {
      "cell_type": "code",
      "source": [
        "result, data = inference_detector(model, 'mmdetection3d/demo/data/nuscenes/n015-2018-07-24-11-22-45+0800__LIDAR_TOP__1532402927647951.pcd.bin')"
      ],
      "metadata": {
        "colab": {
          "base_uri": "https://localhost:8080/"
        },
        "id": "2BO4nRNTtF8o",
        "outputId": "727cd62d-fae2-4564-8d5d-68be2e9e5ff3"
      },
      "execution_count": null,
      "outputs": [
        {
          "output_type": "stream",
          "name": "stderr",
          "text": [
            "/content/mmdetection3d/mmdet3d/models/task_modules/coders/centerpoint_bbox_coders.py:201: UserWarning: To copy construct from a tensor, it is recommended to use sourceTensor.clone().detach() or sourceTensor.clone().detach().requires_grad_(True), rather than torch.tensor(sourceTensor).\n",
            "  self.post_center_range = torch.tensor(\n",
            "/content/mmdetection3d/mmdet3d/models/task_modules/coders/centerpoint_bbox_coders.py:201: UserWarning: To copy construct from a tensor, it is recommended to use sourceTensor.clone().detach() or sourceTensor.clone().detach().requires_grad_(True), rather than torch.tensor(sourceTensor).\n",
            "  self.post_center_range = torch.tensor(\n"
          ]
        }
      ]
    },
    {
      "cell_type": "code",
      "source": [
        "result.pred_instances_3d"
      ],
      "metadata": {
        "colab": {
          "base_uri": "https://localhost:8080/"
        },
        "id": "0iRzwh0ltQdg",
        "outputId": "8912e9ad-3e0e-46e0-804a-31671bbcec30"
      },
      "execution_count": null,
      "outputs": [
        {
          "output_type": "execute_result",
          "data": {
            "text/plain": [
              "<InstanceData(\n",
              "\n",
              "    META INFORMATION\n",
              "\n",
              "    DATA FIELDS\n",
              "    scores_3d: tensor([0.8391, 0.5372, 0.4811, 0.3700, 0.2843, 0.2700, 0.2440, 0.2256, 0.2125,\n",
              "                0.1970, 0.1968, 0.1948, 0.1863, 0.1812, 0.1811, 0.1754, 0.1707, 0.1612,\n",
              "                0.1457, 0.1431, 0.1349, 0.1181, 0.1128, 0.1090, 0.1071, 0.5675, 0.4992,\n",
              "                0.2580, 0.2041, 0.1980, 0.1913, 0.1831, 0.1810, 0.1443, 0.1401, 0.1389,\n",
              "                0.1335, 0.1333, 0.1331, 0.1326, 0.1274, 0.1267, 0.1222, 0.1219, 0.1214,\n",
              "                0.1203, 0.1187, 0.1172, 0.1125, 0.1114, 0.1104, 0.1104, 0.1085, 0.1036,\n",
              "                0.1032, 0.1031, 0.1029, 0.1016, 0.1007, 0.4826, 0.3969, 0.3348, 0.3063,\n",
              "                0.1958, 0.1143, 0.1121, 0.7830, 0.7243, 0.7099, 0.7094, 0.6948, 0.6908,\n",
              "                0.6385, 0.6287, 0.6256, 0.6225, 0.5902, 0.5851, 0.5834, 0.5701, 0.5444,\n",
              "                0.5308, 0.5295, 0.5216, 0.5005, 0.4948, 0.4342, 0.4326, 0.3933, 0.3599,\n",
              "                0.3351, 0.3238, 0.2838, 0.2585, 0.2178, 0.2156, 0.2083, 0.2040, 0.1865,\n",
              "                0.1817, 0.1764, 0.1654, 0.1518, 0.1516, 0.1494, 0.1439, 0.1220, 0.1202,\n",
              "                0.1194, 0.1187, 0.1167, 0.1147, 0.1143, 0.1093, 0.1057, 0.4821, 0.4714,\n",
              "                0.3080, 0.2977, 0.2949, 0.2261, 0.2109, 0.2104, 0.2096, 0.2033, 0.1613,\n",
              "                0.1558, 0.1505, 0.1498, 0.1469, 0.1456, 0.1429, 0.1370, 0.1235, 0.1203,\n",
              "                0.1203, 0.1175, 0.1173, 0.1146, 0.1138, 0.1121, 0.1112, 0.1077, 0.1054,\n",
              "                0.1046, 0.1038, 0.1033, 0.1014, 0.7496, 0.7004, 0.6784, 0.6761, 0.6702,\n",
              "                0.6038, 0.5909, 0.5587, 0.5315, 0.4105, 0.3498, 0.3475, 0.3293, 0.3088,\n",
              "                0.2987, 0.2987, 0.2940, 0.2827, 0.2705, 0.2448, 0.2403, 0.2393, 0.2372,\n",
              "                0.2367, 0.2304, 0.2259, 0.2202, 0.2198, 0.2129, 0.2054, 0.2054, 0.1974,\n",
              "                0.1943, 0.1918, 0.1894, 0.1847, 0.1754, 0.1734, 0.1713, 0.1633, 0.1628,\n",
              "                0.1604, 0.1561, 0.1528, 0.1479, 0.1472, 0.1461, 0.1450, 0.1438, 0.1391,\n",
              "                0.1384, 0.1382, 0.1368, 0.1357, 0.1351, 0.1346, 0.1329, 0.1325, 0.1313,\n",
              "                0.1310, 0.1300, 0.1299, 0.1294, 0.1282, 0.1245, 0.1238, 0.1229, 0.1217,\n",
              "                0.1211, 0.1194, 0.1192, 0.1165, 0.1157, 0.1146, 0.1141, 0.1122, 0.1104,\n",
              "                0.1090, 0.1080, 0.1075, 0.1068, 0.1043, 0.1041], device='cuda:0')\n",
              "    bboxes_3d: LiDARInstance3DBoxes(\n",
              "            tensor([[ 9.1708e+00, -1.9642e+01, -2.5946e+00,  ..., -1.6256e+00,\n",
              "                 -1.2183e-01, -2.4330e+00],\n",
              "                [ 3.2809e+00,  4.0393e+01, -6.2499e-01,  ...,  1.4911e+00,\n",
              "                  5.4749e-02,  3.2750e-01],\n",
              "                [-2.1144e+00,  3.7955e+01, -6.3487e-01,  ...,  1.5372e+00,\n",
              "                  7.5881e-02,  3.7792e-01],\n",
              "                ...,\n",
              "                [ 4.8404e+01,  3.4582e+01, -4.4168e-01,  ..., -4.4418e-01,\n",
              "                 -1.6944e-01, -1.2752e-02],\n",
              "                [ 3.9402e+01, -3.5298e+01, -1.1684e+00,  ...,  1.9437e+00,\n",
              "                  2.8920e-02, -7.8284e-03],\n",
              "                [ 2.6630e+01, -2.6014e+01, -2.8199e+00,  ...,  3.0597e+00,\n",
              "                  9.3341e-03, -1.5687e-03]], device='cuda:0'))\n",
              "    labels_3d: tensor([0, 0, 0, 0, 0, 0, 0, 0, 0, 0, 0, 0, 0, 0, 0, 0, 0, 0, 0, 0, 0, 0, 0, 0,\n",
              "                0, 1, 1, 2, 2, 1, 2, 2, 1, 2, 2, 1, 1, 1, 1, 2, 2, 1, 2, 2, 2, 2, 2, 1,\n",
              "                1, 2, 2, 2, 1, 1, 2, 2, 2, 2, 2, 3, 4, 3, 3, 4, 3, 3, 5, 5, 5, 5, 5, 5,\n",
              "                5, 5, 5, 5, 5, 5, 5, 5, 5, 5, 5, 5, 5, 5, 5, 5, 5, 5, 5, 5, 5, 5, 5, 5,\n",
              "                5, 5, 5, 5, 5, 5, 5, 5, 5, 5, 5, 5, 5, 5, 5, 5, 5, 5, 5, 7, 6, 7, 6, 7,\n",
              "                6, 7, 7, 6, 7, 7, 7, 7, 7, 7, 7, 6, 6, 7, 7, 7, 7, 6, 6, 6, 7, 7, 7, 7,\n",
              "                7, 7, 6, 7, 8, 8, 8, 8, 8, 8, 8, 8, 8, 8, 8, 8, 9, 8, 8, 8, 8, 8, 8, 8,\n",
              "                8, 9, 9, 8, 9, 8, 9, 8, 8, 8, 8, 8, 8, 8, 9, 9, 8, 9, 8, 8, 9, 8, 8, 9,\n",
              "                9, 8, 8, 9, 8, 8, 8, 8, 8, 8, 8, 8, 8, 9, 8, 8, 8, 8, 8, 8, 8, 8, 8, 9,\n",
              "                9, 8, 8, 8, 8, 8, 9, 8, 8, 9, 8, 8, 8, 8, 8], device='cuda:0',\n",
              "               dtype=torch.int32)\n",
              ") at 0x7f8874cc7c10>"
            ]
          },
          "metadata": {},
          "execution_count": 7
        }
      ]
    },
    {
      "cell_type": "code",
      "source": [],
      "metadata": {
        "id": "VX7PHFKmtV1f"
      },
      "execution_count": null,
      "outputs": []
    }
  ],
  "metadata": {
    "accelerator": "GPU",
    "colab": {
      "provenance": []
    },
    "gpuClass": "standard",
    "kernelspec": {
      "display_name": "Python 3",
      "name": "python3"
    },
    "language_info": {
      "codemirror_mode": {
        "name": "ipython",
        "version": 3
      },
      "file_extension": ".py",
      "mimetype": "text/x-python",
      "name": "python",
      "nbconvert_exporter": "python",
      "pygments_lexer": "ipython3",
      "version": "3.8.16"
    }
  },
  "nbformat": 4,
  "nbformat_minor": 0
}